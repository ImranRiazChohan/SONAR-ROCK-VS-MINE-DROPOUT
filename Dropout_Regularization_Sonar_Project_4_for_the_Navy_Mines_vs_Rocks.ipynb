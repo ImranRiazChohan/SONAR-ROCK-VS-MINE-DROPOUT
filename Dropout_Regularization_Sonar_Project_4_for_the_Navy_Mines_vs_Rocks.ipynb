{
  "nbformat": 4,
  "nbformat_minor": 0,
  "metadata": {
    "colab": {
      "name": "Dropout Regularization Sonar Project 4 for the Navy:  Mines vs. Rocks.ipynb",
      "version": "0.3.2",
      "provenance": [],
      "collapsed_sections": []
    },
    "kernelspec": {
      "display_name": "Python 3",
      "language": "python",
      "name": "python3"
    }
  },
  "cells": [
    {
      "cell_type": "markdown",
      "metadata": {
        "colab_type": "text",
        "id": "C467nQVdF7S9"
      },
      "source": [
        "**Dropout Regularization in Keras**"
      ]
    },
    {
      "cell_type": "code",
      "metadata": {
        "colab_type": "code",
        "id": "oN8tvTctEP2U",
        "outputId": "72b6804e-d828-4130-867f-01b2d718534f",
        "colab": {
          "base_uri": "https://localhost:8080/",
          "height": 34
        }
      },
      "source": [
        "import numpy as np\n",
        "import pandas as pd\n",
        "from keras.models import Sequential\n",
        "from keras.layers import Dense\n",
        "from keras.layers import Dropout\n",
        "from keras.wrappers.scikit_learn import KerasClassifier\n",
        "from keras.constraints import maxnorm\n",
        "from keras.optimizers import SGD\n",
        "from sklearn.model_selection import cross_val_score\n",
        "from sklearn.preprocessing import LabelEncoder\n",
        "from sklearn.model_selection import StratifiedKFold\n",
        "from sklearn.preprocessing import StandardScaler\n",
        "from sklearn.pipeline import Pipeline\n"
      ],
      "execution_count": 1,
      "outputs": [
        {
          "output_type": "stream",
          "text": [
            "Using TensorFlow backend.\n"
          ],
          "name": "stderr"
        }
      ]
    },
    {
      "cell_type": "code",
      "metadata": {
        "colab_type": "code",
        "id": "8BaYmYzzGMN9",
        "colab": {}
      },
      "source": [
        "# fix random seed for reproducibility\n",
        "seed = 7\n",
        "np.random.seed(seed)\n",
        "# load dataset\n"
      ],
      "execution_count": 0,
      "outputs": []
    },
    {
      "cell_type": "code",
      "metadata": {
        "colab_type": "code",
        "id": "OHU_uBrJGiW0",
        "outputId": "b8fd18ea-e0c6-4115-cc10-8b7f067a8249",
        "colab": {
          "resources": {
            "http://localhost:8080/nbextensions/google.colab/files.js": {
              "data": "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",
              "ok": true,
              "headers": [
                [
                  "content-type",
                  "application/javascript"
                ]
              ],
              "status": 200,
              "status_text": ""
            }
          },
          "base_uri": "https://localhost:8080/",
          "height": 74
        }
      },
      "source": [
        "from google.colab import files\n",
        "uploaded=files.upload()"
      ],
      "execution_count": 3,
      "outputs": [
        {
          "output_type": "display_data",
          "data": {
            "text/html": [
              "\n",
              "     <input type=\"file\" id=\"files-2cd23d2b-db46-456e-abb7-38927ed694cd\" name=\"files[]\" multiple disabled />\n",
              "     <output id=\"result-2cd23d2b-db46-456e-abb7-38927ed694cd\">\n",
              "      Upload widget is only available when the cell has been executed in the\n",
              "      current browser session. Please rerun this cell to enable.\n",
              "      </output>\n",
              "      <script src=\"/nbextensions/google.colab/files.js\"></script> "
            ],
            "text/plain": [
              "<IPython.core.display.HTML object>"
            ]
          },
          "metadata": {
            "tags": []
          }
        },
        {
          "output_type": "stream",
          "text": [
            "Saving sonar.csv to sonar.csv\n"
          ],
          "name": "stdout"
        }
      ]
    },
    {
      "cell_type": "code",
      "metadata": {
        "colab_type": "code",
        "id": "kIKwG25OGQTU",
        "colab": {}
      },
      "source": [
        "dataframe =pd.read_csv(\"sonar.csv\", header=None)\n",
        "dataset = dataframe.values\n",
        "# split into input (X) and output (Y) variables\n",
        "X = dataset[:,0:60].astype(float)\n",
        "Y = dataset[:,60]\n"
      ],
      "execution_count": 0,
      "outputs": []
    },
    {
      "cell_type": "code",
      "metadata": {
        "colab_type": "code",
        "id": "w19fB8rhGVlI",
        "colab": {}
      },
      "source": [
        "# encode class values as integers\n",
        "encoder = LabelEncoder()\n",
        "encoder.fit(Y)\n",
        "encoded_Y = encoder.transform(Y)\n"
      ],
      "execution_count": 0,
      "outputs": []
    },
    {
      "cell_type": "code",
      "metadata": {
        "colab_type": "code",
        "id": "7NWDWjnqG68k",
        "colab": {
          "base_uri": "https://localhost:8080/",
          "height": 1000
        },
        "outputId": "79226ba2-904a-4f36-ba64-ab5e2a4c6ee0"
      },
      "source": [
        "print(dataframe)\n",
        "print(X)\n",
        "print(\"*****************\")\n",
        "print(Y)"
      ],
      "execution_count": 6,
      "outputs": [
        {
          "output_type": "stream",
          "text": [
            "         0       1       2       3       4   ...      56      57      58      59  60\n",
            "0    0.0200  0.0371  0.0428  0.0207  0.0954  ...  0.0180  0.0084  0.0090  0.0032   R\n",
            "1    0.0453  0.0523  0.0843  0.0689  0.1183  ...  0.0140  0.0049  0.0052  0.0044   R\n",
            "2    0.0262  0.0582  0.1099  0.1083  0.0974  ...  0.0316  0.0164  0.0095  0.0078   R\n",
            "3    0.0100  0.0171  0.0623  0.0205  0.0205  ...  0.0050  0.0044  0.0040  0.0117   R\n",
            "4    0.0762  0.0666  0.0481  0.0394  0.0590  ...  0.0072  0.0048  0.0107  0.0094   R\n",
            "5    0.0286  0.0453  0.0277  0.0174  0.0384  ...  0.0057  0.0027  0.0051  0.0062   R\n",
            "6    0.0317  0.0956  0.1321  0.1408  0.1674  ...  0.0092  0.0143  0.0036  0.0103   R\n",
            "7    0.0519  0.0548  0.0842  0.0319  0.1158  ...  0.0085  0.0047  0.0048  0.0053   R\n",
            "8    0.0223  0.0375  0.0484  0.0475  0.0647  ...  0.0065  0.0093  0.0059  0.0022   R\n",
            "9    0.0164  0.0173  0.0347  0.0070  0.0187  ...  0.0032  0.0035  0.0056  0.0040   R\n",
            "10   0.0039  0.0063  0.0152  0.0336  0.0310  ...  0.0042  0.0003  0.0053  0.0036   R\n",
            "11   0.0123  0.0309  0.0169  0.0313  0.0358  ...  0.0026  0.0092  0.0009  0.0044   R\n",
            "12   0.0079  0.0086  0.0055  0.0250  0.0344  ...  0.0059  0.0058  0.0059  0.0032   R\n",
            "13   0.0090  0.0062  0.0253  0.0489  0.1197  ...  0.0158  0.0053  0.0189  0.0102   R\n",
            "14   0.0124  0.0433  0.0604  0.0449  0.0597  ...  0.0114  0.0196  0.0147  0.0062   R\n",
            "15   0.0298  0.0615  0.0650  0.0921  0.1615  ...  0.0152  0.0049  0.0200  0.0073   R\n",
            "16   0.0352  0.0116  0.0191  0.0469  0.0737  ...  0.0095  0.0015  0.0073  0.0067   R\n",
            "17   0.0192  0.0607  0.0378  0.0774  0.1388  ...  0.0045  0.0037  0.0112  0.0075   R\n",
            "18   0.0270  0.0092  0.0145  0.0278  0.0412  ...  0.0120  0.0132  0.0070  0.0088   R\n",
            "19   0.0126  0.0149  0.0641  0.1732  0.2565  ...  0.0181  0.0094  0.0116  0.0063   R\n",
            "20   0.0473  0.0509  0.0819  0.1252  0.1783  ...  0.0049  0.0082  0.0028  0.0027   R\n",
            "21   0.0664  0.0575  0.0842  0.0372  0.0458  ...  0.0024  0.0162  0.0109  0.0079   R\n",
            "22   0.0099  0.0484  0.0299  0.0297  0.0652  ...  0.0029  0.0160  0.0106  0.0134   R\n",
            "23   0.0115  0.0150  0.0136  0.0076  0.0211  ...  0.0029  0.0037  0.0070  0.0041   R\n",
            "24   0.0293  0.0644  0.0390  0.0173  0.0476  ...  0.0105  0.0160  0.0095  0.0011   R\n",
            "25   0.0201  0.0026  0.0138  0.0062  0.0133  ...  0.0007  0.0024  0.0057  0.0044   R\n",
            "26   0.0151  0.0320  0.0599  0.1050  0.1163  ...  0.0011  0.0019  0.0023  0.0062   R\n",
            "27   0.0177  0.0300  0.0288  0.0394  0.0630  ...  0.0099  0.0057  0.0032  0.0019   R\n",
            "28   0.0100  0.0275  0.0190  0.0371  0.0416  ...  0.0117  0.0020  0.0091  0.0058   R\n",
            "29   0.0189  0.0308  0.0197  0.0622  0.0080  ...  0.0099  0.0092  0.0052  0.0075   R\n",
            "..      ...     ...     ...     ...     ...  ...     ...     ...     ...     ...  ..\n",
            "178  0.0197  0.0394  0.0384  0.0076  0.0251  ...  0.0041  0.0045  0.0047  0.0054   M\n",
            "179  0.0394  0.0420  0.0446  0.0551  0.0597  ...  0.0101  0.0068  0.0053  0.0087   M\n",
            "180  0.0310  0.0221  0.0433  0.0191  0.0964  ...  0.0015  0.0056  0.0067  0.0054   M\n",
            "181  0.0423  0.0321  0.0709  0.0108  0.1070  ...  0.0056  0.0021  0.0043  0.0017   M\n",
            "182  0.0095  0.0308  0.0539  0.0411  0.0613  ...  0.0042  0.0030  0.0031  0.0033   M\n",
            "183  0.0096  0.0404  0.0682  0.0688  0.0887  ...  0.0109  0.0036  0.0043  0.0018   M\n",
            "184  0.0269  0.0383  0.0505  0.0707  0.1313  ...  0.0043  0.0027  0.0055  0.0057   M\n",
            "185  0.0340  0.0625  0.0381  0.0257  0.0441  ...  0.0057  0.0051  0.0033  0.0058   M\n",
            "186  0.0209  0.0191  0.0411  0.0321  0.0698  ...  0.0062  0.0087  0.0070  0.0042   M\n",
            "187  0.0368  0.0279  0.0103  0.0566  0.0759  ...  0.0009  0.0086  0.0110  0.0052   M\n",
            "188  0.0089  0.0274  0.0248  0.0237  0.0224  ...  0.0021  0.0069  0.0060  0.0018   M\n",
            "189  0.0158  0.0239  0.0150  0.0494  0.0988  ...  0.0034  0.0046  0.0022  0.0021   M\n",
            "190  0.0156  0.0210  0.0282  0.0596  0.0462  ...  0.0056  0.0056  0.0048  0.0024   M\n",
            "191  0.0315  0.0252  0.0167  0.0479  0.0902  ...  0.0054  0.0035  0.0001  0.0055   M\n",
            "192  0.0056  0.0267  0.0221  0.0561  0.0936  ...  0.0037  0.0024  0.0034  0.0007   M\n",
            "193  0.0203  0.0121  0.0380  0.0128  0.0537  ...  0.0028  0.0036  0.0013  0.0016   M\n",
            "194  0.0392  0.0108  0.0267  0.0257  0.0410  ...  0.0071  0.0044  0.0022  0.0014   M\n",
            "195  0.0129  0.0141  0.0309  0.0375  0.0767  ...  0.0054  0.0017  0.0024  0.0029   M\n",
            "196  0.0050  0.0017  0.0270  0.0450  0.0958  ...  0.0024  0.0063  0.0017  0.0028   M\n",
            "197  0.0366  0.0421  0.0504  0.0250  0.0596  ...  0.0025  0.0017  0.0027  0.0027   M\n",
            "198  0.0238  0.0318  0.0422  0.0399  0.0788  ...  0.0028  0.0013  0.0035  0.0060   M\n",
            "199  0.0116  0.0744  0.0367  0.0225  0.0076  ...  0.0037  0.0044  0.0057  0.0035   M\n",
            "200  0.0131  0.0387  0.0329  0.0078  0.0721  ...  0.0040  0.0009  0.0015  0.0085   M\n",
            "201  0.0335  0.0258  0.0398  0.0570  0.0529  ...  0.0045  0.0022  0.0005  0.0031   M\n",
            "202  0.0272  0.0378  0.0488  0.0848  0.1127  ...  0.0054  0.0051  0.0065  0.0103   M\n",
            "203  0.0187  0.0346  0.0168  0.0177  0.0393  ...  0.0065  0.0115  0.0193  0.0157   M\n",
            "204  0.0323  0.0101  0.0298  0.0564  0.0760  ...  0.0034  0.0032  0.0062  0.0067   M\n",
            "205  0.0522  0.0437  0.0180  0.0292  0.0351  ...  0.0140  0.0138  0.0077  0.0031   M\n",
            "206  0.0303  0.0353  0.0490  0.0608  0.0167  ...  0.0034  0.0079  0.0036  0.0048   M\n",
            "207  0.0260  0.0363  0.0136  0.0272  0.0214  ...  0.0040  0.0036  0.0061  0.0115   M\n",
            "\n",
            "[208 rows x 61 columns]\n",
            "[[0.02   0.0371 0.0428 ... 0.0084 0.009  0.0032]\n",
            " [0.0453 0.0523 0.0843 ... 0.0049 0.0052 0.0044]\n",
            " [0.0262 0.0582 0.1099 ... 0.0164 0.0095 0.0078]\n",
            " ...\n",
            " [0.0522 0.0437 0.018  ... 0.0138 0.0077 0.0031]\n",
            " [0.0303 0.0353 0.049  ... 0.0079 0.0036 0.0048]\n",
            " [0.026  0.0363 0.0136 ... 0.0036 0.0061 0.0115]]\n",
            "*****************\n",
            "['R' 'R' 'R' 'R' 'R' 'R' 'R' 'R' 'R' 'R' 'R' 'R' 'R' 'R' 'R' 'R' 'R' 'R'\n",
            " 'R' 'R' 'R' 'R' 'R' 'R' 'R' 'R' 'R' 'R' 'R' 'R' 'R' 'R' 'R' 'R' 'R' 'R'\n",
            " 'R' 'R' 'R' 'R' 'R' 'R' 'R' 'R' 'R' 'R' 'R' 'R' 'R' 'R' 'R' 'R' 'R' 'R'\n",
            " 'R' 'R' 'R' 'R' 'R' 'R' 'R' 'R' 'R' 'R' 'R' 'R' 'R' 'R' 'R' 'R' 'R' 'R'\n",
            " 'R' 'R' 'R' 'R' 'R' 'R' 'R' 'R' 'R' 'R' 'R' 'R' 'R' 'R' 'R' 'R' 'R' 'R'\n",
            " 'R' 'R' 'R' 'R' 'R' 'R' 'R' 'M' 'M' 'M' 'M' 'M' 'M' 'M' 'M' 'M' 'M' 'M'\n",
            " 'M' 'M' 'M' 'M' 'M' 'M' 'M' 'M' 'M' 'M' 'M' 'M' 'M' 'M' 'M' 'M' 'M' 'M'\n",
            " 'M' 'M' 'M' 'M' 'M' 'M' 'M' 'M' 'M' 'M' 'M' 'M' 'M' 'M' 'M' 'M' 'M' 'M'\n",
            " 'M' 'M' 'M' 'M' 'M' 'M' 'M' 'M' 'M' 'M' 'M' 'M' 'M' 'M' 'M' 'M' 'M' 'M'\n",
            " 'M' 'M' 'M' 'M' 'M' 'M' 'M' 'M' 'M' 'M' 'M' 'M' 'M' 'M' 'M' 'M' 'M' 'M'\n",
            " 'M' 'M' 'M' 'M' 'M' 'M' 'M' 'M' 'M' 'M' 'M' 'M' 'M' 'M' 'M' 'M' 'M' 'M'\n",
            " 'M' 'M' 'M' 'M' 'M' 'M' 'M' 'M' 'M' 'M']\n"
          ],
          "name": "stdout"
        }
      ]
    },
    {
      "cell_type": "code",
      "metadata": {
        "colab_type": "code",
        "id": "1QF9bOMNHEm5",
        "colab": {}
      },
      "source": [
        "# baseline\n",
        "def create_baseline():\n",
        "    # create model\n",
        "    from keras import models\n",
        "    from keras import layers\n",
        "    model = Sequential()\n",
        "    model.add(layers.Dense(60,activation='relu',input_shape=(60,)))\n",
        "    model.add(layers.Dense(30,activation='relu'))\n",
        "    model.add(layers.Dense(1,activation='sigmoid'))\n",
        "    sgd = SGD(lr=0.01, momentum=0.8, decay=0.0, nesterov=False)\n",
        "    model.compile(loss='binary_crossentropy', optimizer=sgd, metrics=['accuracy'])\n",
        "    return model\n",
        "\n"
      ],
      "execution_count": 0,
      "outputs": []
    },
    {
      "cell_type": "code",
      "metadata": {
        "colab_type": "code",
        "id": "u5gati7tHiAg",
        "outputId": "a6325a8a-aea9-4eb3-f282-61d5710eed12",
        "colab": {
          "base_uri": "https://localhost:8080/",
          "height": 326
        }
      },
      "source": [
        "np.random.seed(seed)\n",
        "estimators = []\n",
        "estimators.append(('standardize', StandardScaler()))\n",
        "estimators.append(('mlp', KerasClassifier(build_fn=create_baseline, epochs=300, batch_size=16, verbose=0)))\n",
        "pipeline = Pipeline(estimators)\n",
        "kfold = StratifiedKFold(n_splits=10, shuffle=True, random_state=seed)\n",
        "results = cross_val_score(pipeline, X, encoded_Y, cv=kfold)\n",
        "print(\"Baseline: %.2f%% (%.2f%%)\" % (results.mean()*100, results.std()*100))\n",
        "\n"
      ],
      "execution_count": 8,
      "outputs": [
        {
          "output_type": "stream",
          "text": [
            "WARNING: Logging before flag parsing goes to stderr.\n",
            "W0826 11:12:05.503103 140208070543232 deprecation_wrapper.py:119] From /usr/local/lib/python3.6/dist-packages/keras/backend/tensorflow_backend.py:74: The name tf.get_default_graph is deprecated. Please use tf.compat.v1.get_default_graph instead.\n",
            "\n",
            "W0826 11:12:05.538053 140208070543232 deprecation_wrapper.py:119] From /usr/local/lib/python3.6/dist-packages/keras/backend/tensorflow_backend.py:517: The name tf.placeholder is deprecated. Please use tf.compat.v1.placeholder instead.\n",
            "\n",
            "W0826 11:12:05.544848 140208070543232 deprecation_wrapper.py:119] From /usr/local/lib/python3.6/dist-packages/keras/backend/tensorflow_backend.py:4138: The name tf.random_uniform is deprecated. Please use tf.random.uniform instead.\n",
            "\n",
            "W0826 11:12:05.599205 140208070543232 deprecation_wrapper.py:119] From /usr/local/lib/python3.6/dist-packages/keras/optimizers.py:790: The name tf.train.Optimizer is deprecated. Please use tf.compat.v1.train.Optimizer instead.\n",
            "\n",
            "W0826 11:12:05.608328 140208070543232 deprecation_wrapper.py:119] From /usr/local/lib/python3.6/dist-packages/keras/backend/tensorflow_backend.py:3376: The name tf.log is deprecated. Please use tf.math.log instead.\n",
            "\n",
            "W0826 11:12:05.615891 140208070543232 deprecation.py:323] From /usr/local/lib/python3.6/dist-packages/tensorflow/python/ops/nn_impl.py:180: add_dispatch_support.<locals>.wrapper (from tensorflow.python.ops.array_ops) is deprecated and will be removed in a future version.\n",
            "Instructions for updating:\n",
            "Use tf.where in 2.0, which has the same broadcast rule as np.where\n",
            "W0826 11:12:05.837756 140208070543232 deprecation_wrapper.py:119] From /usr/local/lib/python3.6/dist-packages/keras/backend/tensorflow_backend.py:986: The name tf.assign_add is deprecated. Please use tf.compat.v1.assign_add instead.\n",
            "\n"
          ],
          "name": "stderr"
        },
        {
          "output_type": "stream",
          "text": [
            "Baseline: 84.59% (4.35%)\n"
          ],
          "name": "stdout"
        }
      ]
    },
    {
      "cell_type": "markdown",
      "metadata": {
        "colab_type": "text",
        "id": "HLGrf66UIMHd"
      },
      "source": [
        "**STEP4:Using Dropout on the Visible Layer**"
      ]
    },
    {
      "cell_type": "code",
      "metadata": {
        "colab_type": "code",
        "id": "kcma6hW0HpRJ",
        "colab": {}
      },
      "source": [
        "# baseline\n",
        "def create_baseline():\n",
        "    from keras import layers\n",
        "    from keras import models\n",
        "    model=models.Sequential()\n",
        "    model.add(layers.Dense(60,activation='relu',input_shape=(60,)))\n",
        "    model.add(layers.Dropout(0.2))\n",
        "    model.add(layers.Dense(30,activation='relu'))\n",
        "    model.add(layers.Dense(1,activation='sigmoid'))\n",
        "    #model.add(Dense(60, input_dim=60, kernel_initializer='normal', activation='relu'))\n",
        "    #model.add(Dense(30, kernel_initializer='normal', activation='relu'))\n",
        "    #model.add(Dense(1, kernel_initializer='normal', activation='sigmoid'))\n",
        "\t# Compile model\n",
        "    sgd = SGD(lr=0.01, momentum=0.8, decay=0.0, nesterov=False)\n",
        "    model.compile(loss='binary_crossentropy', optimizer=sgd, metrics=['accuracy'])\n",
        "    return model"
      ],
      "execution_count": 0,
      "outputs": []
    },
    {
      "cell_type": "code",
      "metadata": {
        "colab_type": "code",
        "id": "7s5g5a90IX0j",
        "outputId": "13d17268-4d2d-448d-e832-3f429541eb5f",
        "colab": {
          "base_uri": "https://localhost:8080/",
          "height": 105
        }
      },
      "source": [
        "np.random.seed(seed)\n",
        "estimators = []\n",
        "estimators.append(('standardize', StandardScaler()))\n",
        "estimators.append(('mlp', KerasClassifier(build_fn=create_baseline, epochs=300, batch_size=16, verbose=0)))\n",
        "pipeline = Pipeline(estimators)\n",
        "kfold = StratifiedKFold(n_splits=10, shuffle=True, random_state=seed)\n",
        "results = cross_val_score(pipeline, X, encoded_Y, cv=kfold)\n",
        "print(\"Visible: %.2f%% (%.2f%%)\" % (results.mean()*100, results.std()*100))\n"
      ],
      "execution_count": 10,
      "outputs": [
        {
          "output_type": "stream",
          "text": [
            "W0826 11:14:10.316215 140208070543232 deprecation.py:506] From /usr/local/lib/python3.6/dist-packages/keras/backend/tensorflow_backend.py:3445: calling dropout (from tensorflow.python.ops.nn_ops) with keep_prob is deprecated and will be removed in a future version.\n",
            "Instructions for updating:\n",
            "Please use `rate` instead of `keep_prob`. Rate should be set to `rate = 1 - keep_prob`.\n"
          ],
          "name": "stderr"
        },
        {
          "output_type": "stream",
          "text": [
            "Visible: 84.09% (3.28%)\n"
          ],
          "name": "stdout"
        }
      ]
    },
    {
      "cell_type": "markdown",
      "metadata": {
        "colab_type": "text",
        "id": "Z1W1vHrMPh51"
      },
      "source": [
        "**STEP 5:Trying to Improve Performance**"
      ]
    },
    {
      "cell_type": "code",
      "metadata": {
        "colab_type": "code",
        "id": "d16-2OUDNWGz",
        "colab": {}
      },
      "source": [
        "# baseline\n",
        "def create_baseline():\n",
        "    from keras import layers\n",
        "    from keras import models\n",
        "    model=models.Sequential()\n",
        "    model.add(layers.Dense(60,activation='relu',input_shape=(60,)))\n",
        "    model.add(layers.Dropout(0.2))\n",
        "    model.add(layers.Dense(30,activation='relu'))\n",
        "    model.add(layers.Dense(1,activation='sigmoid'))\n",
        "    #model.add(Dense(60, input_dim=60, kernel_initializer='normal', activation='relu'))\n",
        "    #model.add(Dense(30, kernel_initializer='normal', activation='relu'))\n",
        "    #model.add(Dense(1, kernel_initializer='normal', activation='sigmoid'))\n",
        "\t# Compile model\n",
        "    sgd = SGD(lr=0.01, momentum=0.8, decay=0.0, nesterov=False)\n",
        "    model.compile(loss='binary_crossentropy', optimizer=sgd, metrics=['accuracy'])\n",
        "    return model"
      ],
      "execution_count": 0,
      "outputs": []
    },
    {
      "cell_type": "code",
      "metadata": {
        "colab_type": "code",
        "id": "tcCNxC0ePkuH",
        "outputId": "aeec7382-e5d6-4062-e5b8-9934171ad5b5",
        "colab": {
          "base_uri": "https://localhost:8080/",
          "height": 34
        }
      },
      "source": [
        "np.random.seed(seed)\n",
        "estimators = []\n",
        "estimators.append(('standardize', StandardScaler()))\n",
        "estimators.append(('mlp', KerasClassifier(build_fn=create_baseline, epochs=500, batch_size=32, verbose=0)))\n",
        "pipeline = Pipeline(estimators)\n",
        "kfold = StratifiedKFold(n_splits=10, shuffle=True, random_state=seed)\n",
        "results = cross_val_score(pipeline, X, encoded_Y, cv=kfold)\n",
        "print(\"Visible: %.2f%% (%.2f%%)\" % (results.mean()*100, results.std()*100))\n"
      ],
      "execution_count": 12,
      "outputs": [
        {
          "output_type": "stream",
          "text": [
            "Visible: 84.59% (4.24%)\n"
          ],
          "name": "stdout"
        }
      ]
    },
    {
      "cell_type": "markdown",
      "metadata": {
        "colab_type": "text",
        "id": "vtYXsMEkQq4E"
      },
      "source": [
        ": **STEP 6:Using Dropout on Hidden Layers**"
      ]
    },
    {
      "cell_type": "code",
      "metadata": {
        "colab_type": "code",
        "id": "viSdBOOGQAsR",
        "colab": {}
      },
      "source": [
        "# baseline\n",
        "def create_baseline():\n",
        "    from keras import layers\n",
        "    from keras import models\n",
        "    model=models.Sequential()\n",
        "    model.add(layers.Dense(60,activation='relu',input_shape=(60,)))\n",
        "    model.add(layers.Dense(30,activation='relu'))\n",
        "    model.add(layers.Dropout(0.2))\n",
        "    model.add(layers.Dense(1,activation='sigmoid'))\n",
        "    #model.add(Dense(60, input_dim=60, kernel_initializer='normal', activation='relu'))\n",
        "    #model.add(Dense(30, kernel_initializer='normal', activation='relu'))\n",
        "    #model.add(Dense(1, kernel_initializer='normal', activation='sigmoid'))\n",
        "\t# Compile model\n",
        "    sgd = SGD(lr=0.01, momentum=0.8, decay=0.0, nesterov=False)\n",
        "    model.compile(loss='binary_crossentropy', optimizer=sgd, metrics=['accuracy'])\n",
        "    return model"
      ],
      "execution_count": 0,
      "outputs": []
    },
    {
      "cell_type": "code",
      "metadata": {
        "colab_type": "code",
        "id": "wS0-oQmcQ3Ot",
        "outputId": "5d5a44b9-6d8e-40fd-9822-739d1150ef33",
        "colab": {
          "base_uri": "https://localhost:8080/",
          "height": 34
        }
      },
      "source": [
        "np.random.seed(seed)\n",
        "estimators = []\n",
        "estimators.append(('standardize', StandardScaler()))\n",
        "estimators.append(('mlp', KerasClassifier(build_fn=create_baseline, epochs=300, batch_size=16, verbose=0)))\n",
        "pipeline = Pipeline(estimators)\n",
        "kfold = StratifiedKFold(n_splits=10, shuffle=True, random_state=seed)\n",
        "results = cross_val_score(pipeline, X, encoded_Y, cv=kfold)\n",
        "print(\"Visible: %.2f%% (%.2f%%)\" % (results.mean()*100, results.std()*100))\n"
      ],
      "execution_count": 14,
      "outputs": [
        {
          "output_type": "stream",
          "text": [
            "Visible: 83.66% (3.76%)\n"
          ],
          "name": "stdout"
        }
      ]
    },
    {
      "cell_type": "markdown",
      "metadata": {
        "colab_type": "text",
        "id": "r1gHe1rERmpS"
      },
      "source": [
        "**STEP 7:Trying to Improve Performance**"
      ]
    },
    {
      "cell_type": "code",
      "metadata": {
        "colab_type": "code",
        "id": "pbiAJG1XQ3R6",
        "colab": {}
      },
      "source": [
        "# baseline\n",
        "def create_baseline():\n",
        "    from keras import layers\n",
        "    from keras import models\n",
        "    model=models.Sequential()\n",
        "    model.add(layers.Dense(60,activation='relu',input_shape=(60,)))\n",
        "    model.add(layers.Dense(30,activation='relu'))\n",
        "    model.add(layers.Dropout(0.2))\n",
        "    model.add(layers.Dense(1,activation='sigmoid'))\n",
        "    #model.add(Dense(60, input_dim=60, kernel_initializer='normal', activation='relu'))\n",
        "    #model.add(Dense(30, kernel_initializer='normal', activation='relu'))\n",
        "    #model.add(layers.Dropout(0.2))\n",
        "    #model.add(Dense(1, kernel_initializer='normal', activation='sigmoid'))\n",
        "\t# Compile model\n",
        "    sgd = SGD(lr=0.01, momentum=0.8, decay=0.0, nesterov=False)\n",
        "    model.compile(loss='binary_crossentropy', optimizer=sgd, metrics=['accuracy'])\n",
        "    return model"
      ],
      "execution_count": 0,
      "outputs": []
    },
    {
      "cell_type": "code",
      "metadata": {
        "colab_type": "code",
        "id": "3q2t2NM7Q3VG",
        "colab": {
          "base_uri": "https://localhost:8080/",
          "height": 34
        },
        "outputId": "d2377668-0c24-4a1d-c660-b2511e66be89"
      },
      "source": [
        "np.random.seed(seed)\n",
        "estimators = []\n",
        "estimators.append(('standardize', StandardScaler()))\n",
        "estimators.append(('mlp', KerasClassifier(build_fn=create_baseline, epochs=500, batch_size=16, verbose=0)))\n",
        "pipeline = Pipeline(estimators)\n",
        "kfold = StratifiedKFold(n_splits=10, shuffle=True, random_state=seed)\n",
        "results = cross_val_score(pipeline, X, encoded_Y, cv=kfold)\n",
        "print(\"Visible: %.2f%% (%.2f%%)\" % (results.mean()*100, results.std()*100))"
      ],
      "execution_count": 16,
      "outputs": [
        {
          "output_type": "stream",
          "text": [
            "Visible: 84.16% (5.26%)\n"
          ],
          "name": "stdout"
        }
      ]
    },
    {
      "cell_type": "markdown",
      "metadata": {
        "colab_type": "text",
        "id": "VYxz4HmWSlLM"
      },
      "source": [
        "## **STEP 8: Tips For Using Dropout**\n",
        "**Try Different Dropout values**"
      ]
    },
    {
      "cell_type": "code",
      "metadata": {
        "colab_type": "code",
        "id": "xm7BC0AVQ3a-",
        "colab": {}
      },
      "source": [
        "# baseline\n",
        "def create_baseline():\n",
        "    from keras import layers\n",
        "    from keras import models\n",
        "    model=models.Sequential()\n",
        "    model.add(layers.Dense(60,activation='relu',input_shape=(60,)))\n",
        "    model.add(layers.Dense(30,activation='relu'))\n",
        "    model.add(layers.Dropout(0.5))\n",
        "    model.add(layers.Dense(1,activation='sigmoid'))\n",
        "    #model.add(Dense(60, input_dim=60, kernel_initializer='normal', activation='relu'))\n",
        "    #model.add(Dense(30, kernel_initializer='normal', activation='relu'))\n",
        "    #model.add(Dense(1, kernel_initializer='normal', activation='sigmoid'))\n",
        "\t# Compile model\n",
        "    sgd = SGD(lr=0.01, momentum=0.8, decay=0.0, nesterov=False)\n",
        "    model.compile(loss='binary_crossentropy', optimizer=sgd, metrics=['accuracy'])\n",
        "    return model"
      ],
      "execution_count": 0,
      "outputs": []
    },
    {
      "cell_type": "code",
      "metadata": {
        "colab_type": "code",
        "id": "NDyXxVZGQ3dz",
        "colab": {
          "base_uri": "https://localhost:8080/",
          "height": 34
        },
        "outputId": "32e5aee9-91ba-40c5-fa53-80bcb947dffc"
      },
      "source": [
        "np.random.seed(seed)\n",
        "estimators = []\n",
        "estimators.append(('standardize', StandardScaler()))\n",
        "estimators.append(('mlp', KerasClassifier(build_fn=create_baseline, epochs=100, batch_size=16, verbose=0)))\n",
        "pipeline = Pipeline(estimators)\n",
        "kfold = StratifiedKFold(n_splits=10, shuffle=True, random_state=seed)\n",
        "results = cross_val_score(pipeline, X, encoded_Y, cv=kfold)\n",
        "print(\"Visible: %.2f%% (%.2f%%)\" % (results.mean()*100, results.std()*100))"
      ],
      "execution_count": 22,
      "outputs": [
        {
          "output_type": "stream",
          "text": [
            "Visible: 84.54% (4.98%)\n"
          ],
          "name": "stdout"
        }
      ]
    },
    {
      "cell_type": "markdown",
      "metadata": {
        "colab_type": "text",
        "id": "3oGxLFv0Sv7g"
      },
      "source": [
        "**Try using a Larger network**"
      ]
    },
    {
      "cell_type": "code",
      "metadata": {
        "colab_type": "code",
        "id": "1j7EYYaJS_JJ",
        "colab": {}
      },
      "source": [
        "# baseline\n",
        "def create_baseline():\n",
        "    from keras import layers\n",
        "    from keras import models\n",
        "    model=models.Sequential()\n",
        "    model.add(layers.Dense(512,activation='relu',input_shape=(60,)))\n",
        "    model.add(layers.Dense(512,activation='relu'))\n",
        "    model.add(layers.Dropout(0.5))\n",
        "    model.add(layer.Dense(1,activation='sigmoid'))\n",
        "    #model.add(Dense(512, input_dim=60, kernel_initializer='normal', activation='relu'))\n",
        "    #model.add(Dense(512, kernel_initializer='normal', activation='relu'))\n",
        "    #model.add(Dense(1, kernel_initializer='normal', activation='sigmoid'))\n",
        "\t# Compile model\n",
        "    sgd = SGD(lr=0.01, momentum=0.8, decay=0.0, nesterov=False)\n",
        "    model.compile(loss='binary_crossentropy', optimizer=sgd, metrics=['accuracy'])\n",
        "    return model"
      ],
      "execution_count": 0,
      "outputs": []
    },
    {
      "cell_type": "code",
      "metadata": {
        "colab_type": "code",
        "id": "xDpa2tqNTCbY",
        "colab": {}
      },
      "source": [
        "np.random.seed(seed)\n",
        "estimators = []\n",
        "estimators.append(('standardize', StandardScaler()))\n",
        "estimators.append(('mlp', KerasClassifier(build_fn=create_baseline, epochs=100, batch_size=16, verbose=0)))\n",
        "pipeline = Pipeline(estimators)\n",
        "kfold = StratifiedKFold(n_splits=10, shuffle=True, random_state=seed)\n",
        "results = cross_val_score(pipeline, X, encoded_Y, cv=kfold)\n",
        "print(\"Visible: %.2f%% (%.2f%%)\" % (results.mean()*100, results.std()*100))"
      ],
      "execution_count": 0,
      "outputs": []
    },
    {
      "cell_type": "markdown",
      "metadata": {
        "colab_type": "text",
        "id": "nSKdHHANTDGd"
      },
      "source": [
        "**Try using Dropout on both visible and hidden units**"
      ]
    },
    {
      "cell_type": "code",
      "metadata": {
        "colab_type": "code",
        "id": "KUFu1NteTJyI",
        "colab": {}
      },
      "source": [
        "# baseline\n",
        "def create_baseline():\n",
        "    from keras import layers\n",
        "    from keras import models\n",
        "    model=models.Sequential()\n",
        "    model.add(layers.Dense(512,activation='relu',input_shape=(60,)))\n",
        "    model.add(layers.Dropout(0.5))\n",
        "    model.add(layers.Dense(512,activation='relu'))\n",
        "    model.add(layers.Dropout(0.5))\n",
        "    model.add(layers.Dense(1,activation='sigmoid'))\n",
        "    #model.add(Dense(512, input_dim=60, kernel_initializer='normal', activation='relu'))\n",
        "    #model.add(Dense(512, kernel_initializer='normal', activation='relu'))\n",
        "    #model.add(Dense(1, kernel_initializer='normal', activation='sigmoid'))\n",
        "\t# Compile model\n",
        "    sgd = SGD(lr=0.01, momentum=0.8, decay=0.0, nesterov=False)\n",
        "    model.compile(loss='binary_crossentropy', optimizer=sgd, metrics=['accuracy'])\n",
        "    return model"
      ],
      "execution_count": 0,
      "outputs": []
    },
    {
      "cell_type": "code",
      "metadata": {
        "colab_type": "code",
        "id": "bWyxlQf6TPev",
        "colab": {}
      },
      "source": [
        "np.random.seed(seed)\n",
        "estimators = []\n",
        "estimators.append(('standardize', StandardScaler()))\n",
        "estimators.append(('mlp', KerasClassifier(build_fn=create_baseline, epochs=100, batch_size=16, verbose=0)))\n",
        "pipeline = Pipeline(estimators)\n",
        "kfold = StratifiedKFold(n_splits=10, shuffle=True, random_state=seed)\n",
        "results = cross_val_score(pipeline, X, encoded_Y, cv=kfold)\n",
        "print(\"Visible: %.2f%% (%.2f%%)\" % (results.mean()*100, results.std()*100))"
      ],
      "execution_count": 0,
      "outputs": []
    },
    {
      "cell_type": "markdown",
      "metadata": {
        "colab_type": "text",
        "id": "iwAvU7zrTQA-"
      },
      "source": [
        "**Try using large learning rate with decay and larger momentum**"
      ]
    },
    {
      "cell_type": "code",
      "metadata": {
        "colab_type": "code",
        "id": "-6liMsnjTVKM",
        "colab": {}
      },
      "source": [
        "# baseline\n",
        "def create_baseline():\n",
        "    from keras import layers\n",
        "    from keras import models\n",
        "    model=models.Sequential()\n",
        "    model.add(layers.Dense(512,activation='relu',input_shape=(60,)))\n",
        "    model.add(layers.Dropout(0.5))\n",
        "    model.add(layers.Dense(512,activation='relu'))\n",
        "    model.add(layers.Dropout(0.5))\n",
        "    model.add(layers.Dense(1,activation='sigmoid'))\n",
        "   # model.add(Dense(512, input_dim=60, kernel_initializer='normal', activation='relu'))\n",
        "   # model.add(Dense(512, kernel_initializer='normal', activation='relu'))\n",
        "   # model.add(Dense(1, kernel_initializer='normal', activation='sigmoid'))\n",
        "\t# Compile model\n",
        "    sgd = SGD(lr=0.1, momentum=0.99, decay=0.0, nesterov=False)\n",
        "    model.compile(loss='binary_crossentropy', optimizer=sgd, metrics=['accuracy'])\n",
        "    return model"
      ],
      "execution_count": 0,
      "outputs": []
    },
    {
      "cell_type": "code",
      "metadata": {
        "colab_type": "code",
        "id": "kyWxKGtTTXQs",
        "colab": {}
      },
      "source": [
        "np.random.seed(seed)\n",
        "estimators = []\n",
        "estimators.append(('standardize', StandardScaler()))\n",
        "estimators.append(('mlp', KerasClassifier(build_fn=create_baseline, epochs=100, batch_size=16, verbose=0)))\n",
        "pipeline = Pipeline(estimators)\n",
        "kfold = StratifiedKFold(n_splits=10, shuffle=True, random_state=seed)\n",
        "results = cross_val_score(pipeline, X, encoded_Y, cv=kfold)\n",
        "print(\"Visible: %.2f%% (%.2f%%)\" % (results.mean()*100, results.std()*100))"
      ],
      "execution_count": 0,
      "outputs": []
    },
    {
      "cell_type": "markdown",
      "metadata": {
        "colab_type": "text",
        "id": "4r3bC3GNTXgt"
      },
      "source": [
        "**Try constraining the size of the network weights**"
      ]
    },
    {
      "cell_type": "code",
      "metadata": {
        "colab_type": "code",
        "id": "z6cufOJiTZCQ",
        "colab": {}
      },
      "source": [
        "# baseline\n",
        "def create_baseline():\n",
        "    from keras import layers\n",
        "    from keras import models\n",
        "    model=models.Sequential()\n",
        "    model.add(Dense(512, input_dim=60, kernel_initializer='normal', activation='relu'))\n",
        "    model.add(Dense(512, kernel_initializer='normal', activation='relu'))\n",
        "    model.add(layers.Dropout(0.5))\n",
        "    model.add(Dense(1, kernel_initializer='normal', activation='sigmoid'))\n",
        "\t# Compile model\n",
        "    sgd = SGD(lr=0.01, momentum=0.8, decay=0.0, nesterov=False)\n",
        "    model.compile(loss='binary_crossentropy', optimizer=sgd, metrics=['accuracy'])\n",
        "    return model"
      ],
      "execution_count": 0,
      "outputs": []
    },
    {
      "cell_type": "code",
      "metadata": {
        "colab_type": "code",
        "id": "qLr3xvAqTcht",
        "colab": {}
      },
      "source": [
        "np.random.seed(seed)\n",
        "estimators = []\n",
        "estimators.append(('standardize', StandardScaler()))\n",
        "estimators.append(('mlp', KerasClassifier(build_fn=create_baseline, epochs=100, batch_size=16, verbose=0)))\n",
        "pipeline = Pipeline(estimators)\n",
        "kfold = StratifiedKFold(n_splits=10, shuffle=True, random_state=seed)\n",
        "results = cross_val_score(pipeline, X, encoded_Y, cv=kfold)\n",
        "print(\"Visible: %.2f%% (%.2f%%)\" % (results.mean()*100, results.std()*100))"
      ],
      "execution_count": 0,
      "outputs": []
    },
    {
      "cell_type": "markdown",
      "metadata": {
        "colab_type": "text",
        "id": "gEX1h2FhTcwi"
      },
      "source": [
        "**STEP 9: Read More Resources on Dropout, and try implementing them**"
      ]
    },
    {
      "cell_type": "code",
      "metadata": {
        "colab_type": "code",
        "id": "GWJm2fHQTeXu",
        "colab": {}
      },
      "source": [
        "# baseline\n",
        "def create_baseline():\n",
        "    from keras import layers\n",
        "    from keras import models\n",
        "    model=models.Sequential()\n",
        "    model.add(Dense(512, input_dim=60, kernel_initializer='normal', activation='relu'))\n",
        "    model.add(Dense(512, kernel_initializer='normal', activation='relu'))\n",
        "    model.add(layers.Dropout(0.5))\n",
        "    model.add(Dense(1, kernel_initializer='normal', activation='sigmoid'))\n",
        "\t# Compile model\n",
        "    sgd = SGD(lr=0.01, momentum=0.8, decay=0.0, nesterov=False)\n",
        "    model.compile(loss='binary_crossentropy', optimizer=sgd, metrics=['accuracy'])\n",
        "    return model"
      ],
      "execution_count": 0,
      "outputs": []
    },
    {
      "cell_type": "code",
      "metadata": {
        "id": "G8UmIv9enrl6",
        "colab_type": "code",
        "colab": {}
      },
      "source": [
        "np.random.seed(seed)\n",
        "estimators = []\n",
        "estimators.append(('standardize', StandardScaler()))\n",
        "estimators.append(('mlp', KerasClassifier(build_fn=create_baseline, epochs=100, batch_size=16, verbose=0)))\n",
        "pipeline = Pipeline(estimators)\n",
        "kfold = StratifiedKFold(n_splits=10, shuffle=True, random_state=seed)\n",
        "results = cross_val_score(pipeline, X, encoded_Y, cv=kfold)\n",
        "print(\"Visible: %.2f%% (%.2f%%)\" % (results.mean()*100, results.std()*100))"
      ],
      "execution_count": 0,
      "outputs": []
    }
  ]
}